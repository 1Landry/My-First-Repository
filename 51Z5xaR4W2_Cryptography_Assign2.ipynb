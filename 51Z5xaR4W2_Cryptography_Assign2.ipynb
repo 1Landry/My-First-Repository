{
 "cells": [
  {
   "cell_type": "markdown",
   "id": "coupled-recycling",
   "metadata": {},
   "source": [
    "# 51Z5xaR4W2_Cryptography_Assign2|"
   ]
  },
  {
   "cell_type": "markdown",
   "id": "driven-ethics",
   "metadata": {},
   "source": [
    "## Exercise 1 "
   ]
  },
  {
   "cell_type": "markdown",
   "id": "stable-struggle",
   "metadata": {},
   "source": [
    "  ### $\\underline{Question ~1.1}$ Let's write mySquareAndMultiply function"
   ]
  },
  {
   "cell_type": "markdown",
   "id": "outer-index",
   "metadata": {},
   "source": [
    "  "
   ]
  },
  {
   "cell_type": "code",
   "execution_count": 1,
   "id": "sufficient-spanish",
   "metadata": {},
   "outputs": [],
   "source": [
    "from sage.all import *\n",
    "\n",
    "def mySquareAndMultiply(element, exponent):\n",
    "    \"\"\"\n",
    "    Performs the square and multiply algorithm for exponentiation in a group.\n",
    "\n",
    "    Args:\n",
    "        element: An element of the group.\n",
    "        exponent: The power to which the element is raised.\n",
    "\n",
    "    Returns:\n",
    "        The result of raising the element to the exponent in the group.\n",
    "    \"\"\"\n",
    "    # Set the initial value of the result to be the group's identity element.\n",
    "\n",
    "    result = element.parent().one()\n",
    "\n",
    "    # Convert the exponent to its binary representation\n",
    "    binary_exponent = bin(exponent)[2:]\n",
    "\n",
    "    # Iterate over the bits of the exponent from left to right\n",
    "    for bit in binary_exponent:\n",
    "        # Square the result modulo N (group operation)\n",
    "        result = result * result\n",
    "\n",
    "        # Multiply by the element modulo N (group operation) if the current bit is 1\n",
    "        if bit == '1':\n",
    "            result =result * element\n",
    "\n",
    "    return result\n"
   ]
  },
  {
   "cell_type": "markdown",
   "id": "reserved-software",
   "metadata": {},
   "source": [
    "## illustartion of the function mySquareAndMultiply "
   ]
  },
  {
   "cell_type": "code",
   "execution_count": 2,
   "id": "powered-recipe",
   "metadata": {},
   "outputs": [
    {
     "name": "stdout",
     "output_type": "stream",
     "text": [
      "\n",
      "\n",
      " -Given the element = 54, and exponent = 129786  we obtain: 54^129786 = 64 in Z_74\n",
      "\n",
      "----------------------------------------------------------------------------------------------------------\n",
      "\n",
      " -Given the element = 9, and exponent = 1755534  we obtain: 9^1755534 = 63 in Z_74\n",
      "\n",
      "----------------------------------------------------------------------------------------------------------\n",
      "\n",
      " -Given the element = 12, and exponent = 98547846  we obtain: 12^98547846 = 10 in Z_74\n",
      "\n",
      "----------------------------------------------------------------------------------------------------------\n"
     ]
    }
   ],
   "source": [
    "modulus = 74\n",
    "group = IntegerModRing(modulus)\n",
    "\n",
    "element1 = group(74575478)\n",
    "exponent1 = 129786\n",
    "element2 = group(1998675)\n",
    "exponent2 = 1755534\n",
    "element3 = group(11186)\n",
    "exponent3 = 98547846\n",
    "\n",
    "print(f\"\\n\\n -Given the element = {element1}, and exponent = {exponent1}\",\n",
    "      f\" we obtain: {element1}^{exponent1} = {mySquareAndMultiply(element1, exponent1)} in Z_{modulus}\\n\")\n",
    "print('-'*106)\n",
    "\n",
    "print(f\"\\n -Given the element = {element2}, and exponent = {exponent2}\",\n",
    "      f\" we obtain: {element2}^{exponent2} = {mySquareAndMultiply(element2, exponent2)} in Z_{modulus}\\n\")\n",
    "print('-'*106)\n",
    "\n",
    "print(f\"\\n -Given the element = {element3}, and exponent = {exponent3}\",\n",
    "      f\" we obtain: {element3}^{exponent3} = {mySquareAndMultiply(element3, exponent3)} in Z_{modulus}\\n\")\n",
    "\n",
    "print('-'*106)\n"
   ]
  },
  {
   "cell_type": "markdown",
   "id": "metric-scottish",
   "metadata": {},
   "source": [
    "  ### $\\underline{Question ~1.2}$ Let's write the  myPrimalityTest function"
   ]
  },
  {
   "cell_type": "code",
   "execution_count": 3,
   "id": "auburn-collapse",
   "metadata": {},
   "outputs": [],
   "source": [
    "import random\n",
    "\n",
    "def myPrimalityTest(n, k=38):\n",
    "    \"\"\"\n",
    "    Perform a primality test using the Miller-Rabin algorithm.\n",
    "    Returns True if the number is probably prime, otherwise False.\n",
    "    The default value of k is 38, which provides a high level of confidence.\n",
    "    \"\"\"\n",
    "\n",
    "    # Check for small prime numbers\n",
    "    if n == 2:\n",
    "        return True\n",
    "    \n",
    "    #Check if n is even \n",
    "    if n % 2 == 0:\n",
    "        return False \n",
    "\n",
    "    # Find t odd such that n n = 2^s * t+1  ie  n-1 = 2^s * t.\n",
    "    t = n - 1\n",
    "    s = 0\n",
    "\n",
    "    while t % 2 == 0:\n",
    "        # Divide t by 2 until it becomes odd and count the number\n",
    "            #of divisions performed to obtain s.\n",
    "        t //= 2\n",
    "        s += 1\n",
    "\n",
    "    for l in range(k):\n",
    "        # Choose b random base a from the range {1, ..., n - 1}.\n",
    "        b = random.randint(1, n - 1)\n",
    "\n",
    "        # Compute x = b^t mod n.\n",
    "        x = pow(b, t, n)\n",
    "\n",
    "        if x == 1 or x == n - 1:\n",
    "            # If x is 1 or n - 1, continue to the next iteration.\n",
    "            continue\n",
    "\n",
    "        for j in range(s - 1):\n",
    "            # Repeat squaring x, s - 1 times \n",
    "            # and check if x is congruent to n - 1 (mod n).\n",
    "            x = pow(x,2,n)\n",
    "\n",
    "            if x== n - 1:\n",
    "                # If x is congruent to n - 1 (mod n), break the loop.\n",
    "                break\n",
    "        else:\n",
    "            # If the loop completes without finding x congruent to n - 1, n is composite.\n",
    "            return False\n",
    "\n",
    "    # If the loop completes for all bases without \n",
    "       #finding n to be composite, n is probably prime.\n",
    "    return True"
   ]
  },
  {
   "cell_type": "markdown",
   "id": "challenging-reconstruction",
   "metadata": {},
   "source": [
    "## illustartion of the function myPrimalityTest "
   ]
  },
  {
   "cell_type": "code",
   "execution_count": 4,
   "id": "sublime-postcard",
   "metadata": {},
   "outputs": [
    {
     "name": "stdout",
     "output_type": "stream",
     "text": [
      "\n",
      "The number 17 is prime: True\n",
      "----------------------------------------------------------------------------------------------------------\n",
      "\n",
      "The number 9999999967 is prime: True\n",
      "----------------------------------------------------------------------------------------------------------\n",
      "\n",
      "The number 10000000019 is prime: True\n",
      "----------------------------------------------------------------------------------------------------------\n",
      "\n",
      "The number 1234567891011 is prime: False\n",
      "----------------------------------------------------------------------------------------------------------\n",
      "\n",
      "The number 98765432101234567 is prime: False\n",
      "\n"
     ]
    }
   ],
   "source": [
    "number1 = 17\n",
    "number2 = 9999999967\n",
    "number3 = 10000000019\n",
    "number4 = 1234567891011\n",
    "number5 = 98765432101234567\n",
    "\n",
    "\n",
    "print(f\"\\nThe number {number1} is prime: {myPrimalityTest(number1)}\")\n",
    "print('-'*106)\n",
    "print(f\"\\nThe number {number2} is prime: {myPrimalityTest(number2)}\")\n",
    "print('-'*106)\n",
    "print(f\"\\nThe number {number3} is prime: {myPrimalityTest(number3)}\")\n",
    "print('-'*106)\n",
    "print(f\"\\nThe number {number4} is prime: {myPrimalityTest(number4)}\")\n",
    "print('-'*106)\n",
    "print(f\"\\nThe number {number5} is prime: {myPrimalityTest(number5)}\\n\")\n"
   ]
  },
  {
   "cell_type": "markdown",
   "id": "thirty-mixer",
   "metadata": {},
   "source": [
    "  ### $\\underline{Question ~1.3}$ Let's write the  myModulusGeneration function"
   ]
  },
  {
   "cell_type": "code",
   "execution_count": 5,
   "id": "split-greenhouse",
   "metadata": {},
   "outputs": [],
   "source": [
    "from random import getrandbits\n",
    "from math import gcd\n",
    "\n",
    "def myModulusGeneration(l, e):\n",
    "    \"\"\"\n",
    "    The function myModulusGeneration\n",
    "    \n",
    "    Generate a modulus 'N' and two large prime numbers 'p' and 'q'.\n",
    "    \n",
    "    'l' is the desired length of the prime numbers in bits.\n",
    "    \n",
    "    'e' is the exponent that is coprime with (p-1) and (q-1).\n",
    "    \n",
    "    Returns 'p', 'q' .\n",
    "    \n",
    "    \"\"\"\n",
    "\n",
    "    # We verify first if e is odd because if not 2 will be a common factor of e ,p-1 and q-1\n",
    "    \n",
    "        # which are even Because p and q are primes .\n",
    "    \n",
    "    if e%2==0:\n",
    "        raise ValueError('Exponant e has to  be odd')\n",
    "    \n",
    "    while True:\n",
    "        # Generate a random number 'p' with l bits \n",
    "        # and set the most significant bit to 1.\n",
    "        p = getrandbits(l-1) | (1 << (l-1))\n",
    "        \n",
    "\n",
    "        # Check if 'p' is prime using a custom primality test.\n",
    "        if myPrimalityTest(p):\n",
    "            break  # If we find a prime number with l bits, stop.\n",
    "\n",
    "    while True:\n",
    "        # Generate a random number 'q' with l  bits \n",
    "          #and set the most significant bit to 1.\n",
    "        q = getrandbits(l-1) | (1 << (l-1))\n",
    "\n",
    "        # Check if 'q' is prime and not equal to 'p'.\n",
    "        if myPrimalityTest(q) and p != q:\n",
    "            break\n",
    "\n",
    "    # Compute the product of 'p' and 'q' to generate the modulus 'N'.\n",
    "    N = p * q\n",
    "    \n",
    "    #Check if N has 2l bits \n",
    "    \n",
    "    if N.nbits()!=2*l:\n",
    "        # If  N does not have 2l bits , recursively call the function again to generate a new modulus.\n",
    "        return myModulusGeneration(l, e)\n",
    "        \n",
    "\n",
    "    # Check if both (p-1) and (q-1) are coprime with e.\n",
    "    if (gcd(e, (p - 1) ) != 1) or (gcd(e, (q - 1) ) != 1):\n",
    "        # If they are not coprime, recursively call the function again to generate a new modulus.\n",
    "        return myModulusGeneration(l, e)\n",
    "\n",
    "    # Return the prime numbers 'p' and 'q', and the modulus 'N'.\n",
    "    return p, q"
   ]
  },
  {
   "cell_type": "markdown",
   "id": "injured-cambodia",
   "metadata": {},
   "source": [
    "## illustartion of the function myModulusGeneration "
   ]
  },
  {
   "cell_type": "code",
   "execution_count": 6,
   "id": "stuck-heather",
   "metadata": {},
   "outputs": [
    {
     "name": "stdout",
     "output_type": "stream",
     "text": [
      "\n",
      "Let's consider the lenght l=75 and the exponent e=3478553\n",
      "----------------------------------------------------------------------------------------------------------\n",
      "\n",
      "The Prime p is : 26767004781188076864791 and has 75 bits=l\n",
      "----------------------------------------------------------------------------------------------------------\n",
      "\n",
      "The Prime q is : 32072951762148474586183 and has 75 bits=l\n",
      "----------------------------------------------------------------------------------------------------------\n",
      "\n",
      " The number N is :858496853164242774292235221387335439767782753 and has 150 bits = 2*l\n",
      "\n"
     ]
    }
   ],
   "source": [
    "l = 75\n",
    "e = 3478553\n",
    "p1, q1 = myModulusGeneration(l, e)\n",
    "N=p1*q1\n",
    "print(f\"\\nLet's consider the lenght l={l} and the exponent e={e}\")\n",
    "print('-'*106)\n",
    "\n",
    "print(f\"\\nThe Prime p is : {p1} and has {p1.nbits()} bits=l\")\n",
    "print('-'*106)\n",
    "\n",
    "print(f\"\\nThe Prime q is : {q1} and has {q1.nbits()} bits=l\")\n",
    "print('-'*106)\n",
    "\n",
    "print(f\"\\n The number N is :{N} and has {N.nbits()} bits = 2*l\\n\")"
   ]
  },
  {
   "cell_type": "markdown",
   "id": "classified-declaration",
   "metadata": {},
   "source": [
    "  ### $\\underline{Question ~1.4}$ Let's write the  myKeyGenerationfunction"
   ]
  },
  {
   "cell_type": "code",
   "execution_count": 7,
   "id": "electoral-procedure",
   "metadata": {},
   "outputs": [],
   "source": [
    "from random import randint\n",
    "from math import gcd\n",
    "\n",
    "\n",
    "def myKeyGeneration(l, e):\n",
    "    \"\"\"\n",
    "    Generate a random RSA public key (N, e) and the corresponding secret key (d, N).\n",
    "    'l' is the desired bit length of the modulus N.\n",
    "    'e' is the exponent for the public key, which should be coprime with (p-1)*(q-1).\n",
    "    Returns a tuple containing the public key (N, e) and the secret key (d, N).\n",
    "    \"\"\"\n",
    "\n",
    "    # Generate prime numbers 'p', 'q', and the modulus 'N' using myModulusGeneration.\n",
    "    p, q = myModulusGeneration(l, e)\n",
    "    \n",
    "    N=p*q\n",
    "\n",
    "    # Compute Euler's totient function value for N.\n",
    "    phi_N = (p - 1) * (q - 1)\n",
    "\n",
    "    # Use the extended Euclidean algorithm to find the multiplicative inverse of 'e' modulus 'phi_N'.\n",
    "    d = inverse_mod(e, phi_N)\n",
    "\n",
    "    # Return the public key (N, e) and the secret key (d, N).\n",
    "    return N,e,d"
   ]
  },
  {
   "cell_type": "markdown",
   "id": "greek-custody",
   "metadata": {},
   "source": [
    "## illustartion of the function myKeyGeneration"
   ]
  },
  {
   "cell_type": "code",
   "execution_count": 8,
   "id": "seeing-fisher",
   "metadata": {},
   "outputs": [
    {
     "name": "stdout",
     "output_type": "stream",
     "text": [
      "Example 1:\n",
      "----------------------------------------------------------------------------------------------------------\n",
      "\n",
      "Public key (N, e):(13081,65537)\n",
      "----------------------------------------------------------------------------------------------------------\n",
      "\n",
      "Private key d:\n",
      "----------------------------------------------------------------------------------------------------------\n",
      "\n",
      "d = 1097\n",
      "\n",
      "\n",
      "\n",
      "Example 2:\n",
      "----------------------------------------------------------------------------------------------------------\n",
      "\n",
      "Public key (N, e):(37241,3847855)\n",
      "----------------------------------------------------------------------------------------------------------\n",
      "\n",
      "Private key d:\n",
      "----------------------------------------------------------------------------------------------------------\n",
      "\n",
      "d = 34435\n"
     ]
    }
   ],
   "source": [
    "N,public_key, private_key = myKeyGeneration(7, 65537)\n",
    "e = public_key\n",
    "d= private_key\n",
    "\n",
    "print(\"Example 1:\")\n",
    "print('-'*106)\n",
    "print(f\"\\nPublic key (N, e):({N},{e})\")\n",
    "print('-'*106)\n",
    "print(\"\\nPrivate key d:\")\n",
    "print('-'*106)\n",
    "print(\"\\nd =\", d)\n",
    "\n",
    "# Example 2:\n",
    "N,public_key, private_key = myKeyGeneration(8, 3847855)\n",
    "e = public_key\n",
    "d= private_key\n",
    "\n",
    "print(\"\\n\\n\\nExample 2:\")\n",
    "print('-'*106)\n",
    "print(f\"\\nPublic key (N, e):({N},{e})\")\n",
    "print('-'*106)\n",
    "print(\"\\nPrivate key d:\")\n",
    "print('-'*106)\n",
    "print(\"\\nd =\", d)\n"
   ]
  },
  {
   "cell_type": "markdown",
   "id": "unauthorized-money",
   "metadata": {},
   "source": [
    " "
   ]
  },
  {
   "cell_type": "markdown",
   "id": "insured-celebration",
   "metadata": {},
   "source": [
    "## Exercise  2"
   ]
  },
  {
   "cell_type": "markdown",
   "id": "accessory-twelve",
   "metadata": {},
   "source": [
    "  ### $\\underline{Question ~2.1}$ Let's write the  myRSAEncrypt"
   ]
  },
  {
   "cell_type": "markdown",
   "id": "fuzzy-contents",
   "metadata": {},
   "source": [
    " "
   ]
  },
  {
   "cell_type": "code",
   "execution_count": 9,
   "id": "continuing-freight",
   "metadata": {},
   "outputs": [],
   "source": [
    "def myRSAEncrypt(N, public_key, m):\n",
    "    \"\"\"\n",
    "    Encrypt a message 'm' using RSA public key .\n",
    "    'N' is the modulus, public_key is the public exponent, and 'm' is the message.\n",
    "    Returns the ciphertext 'C'.\n",
    "    \"\"\"\n",
    "\n",
    "    # Check if 'm' is in the correct range.\n",
    "    if m < 2 or m > N - 2:\n",
    "        raise ValueError(\"Message m is not in the correct range.\")\n",
    "\n",
    "    # Use the Square-and-Multiply algorithm to compute m^e mod N.\n",
    "    \n",
    "    m=mod(m,N)\n",
    "    \n",
    "    C = mySquareAndMultiply(m, public_key) \n",
    "\n",
    "    # Return the ciphertext C.\n",
    "    return C\n"
   ]
  },
  {
   "cell_type": "markdown",
   "id": "demanding-moral",
   "metadata": {},
   "source": [
    " "
   ]
  },
  {
   "cell_type": "markdown",
   "id": "polyphonic-impact",
   "metadata": {},
   "source": [
    "  ### $\\underline{Question ~2.2}$ Let's write the  myRSADecrypt"
   ]
  },
  {
   "cell_type": "code",
   "execution_count": 10,
   "id": "behavioral-tourist",
   "metadata": {},
   "outputs": [],
   "source": [
    "def myRSADecrypt(N, secret_key, C):\n",
    "    \"\"\"\n",
    "    Decrypt a ciphertext 'C' using RSA private key (N, d).\n",
    "    'N' is the modulus, secret_key is the private exponent, and 'C' is the ciphertext.\n",
    "    Returns the decrypted message 'D'.\n",
    "    \"\"\"\n",
    "\n",
    "    # Check if 'C' is in the correct range.\n",
    "    if C < 2 or C> N - 2:\n",
    "        raise ValueError(\"Ciphertext C is not in the correct range.\")\n",
    "\n",
    "    # Use the Square-and-Multiply algorithm to compute C^d mod N.\n",
    "    \n",
    "    C=mod(C,N)\n",
    "\n",
    "    \n",
    "    Decrypted = mySquareAndMultiply(C, secret_key) \n",
    "\n",
    "    # Return the decrypted message .\n",
    "    return Decrypted"
   ]
  },
  {
   "cell_type": "markdown",
   "id": "distributed-variation",
   "metadata": {},
   "source": [
    " "
   ]
  },
  {
   "cell_type": "markdown",
   "id": "median-feeling",
   "metadata": {},
   "source": [
    "  ### $\\underline{Question ~2.3}$ Let's Use the function myKeyGeneration to generate an RSA public key  (N, e = 65537)  with its corresponding secret key d. l= 4096"
   ]
  },
  {
   "cell_type": "code",
   "execution_count": 11,
   "id": "expressed-journey",
   "metadata": {},
   "outputs": [
    {
     "name": "stdout",
     "output_type": "stream",
     "text": [
      "\n",
      "My Public key is (N, e):\n",
      "----------------------------------------------------------------------------------------------------------\n",
      "\n",
      "\n",
      "N = 864640302331475020366623039252253354518609341795867552706874814088506415317311299484919758725863968481390914146021575804293147287581205293083530009046250897177021156687495826191171321431225494935653784483318956122448956221934900934509681477884749760124015860113652398146991787059160025110163142559173166675204192451113550039176601075706870673146405018675509294090707397566395836283077367241700296077133440548968730315150324939955918069695413066784322364738307481108021465487454713693863890965168995397423564173674835599336518319826835563582857352762818807805713901997150252568605722879259978242138730642343508342272981830020113060203574898918353419981204906047293888766321651482199081762332857761309537652251869610091170392023941647719729012438389263586319471607226211408313119390873799696894028053380024628902317022399991023648111930434965908489729311193164740775267943926046627648625276379419345568645142805293325893334522815061296032409813914033845943037001475494066885013968865624737965504922269415096721255797518481193410617246206519715415398461030970248445119253273640299396582488437112041593166364441547619691703601770079338868824310842270258392708909704123741482615344711457744387214623273915689322493964510794183616820964881\n",
      "----------------------------------------------------------------------------------------------------------\n",
      "\n",
      "\n",
      "e = 65537\n",
      "----------------------------------------------------------------------------------------------------------\n",
      "\n",
      "\n",
      "\n",
      "\n",
      "Private key d:\n",
      "----------------------------------------------------------------------------------------------------------\n",
      "\n",
      "\n",
      "d = 606753551493424114418740460735327094226327778647053553702323461555005722575692306076131951474777361039705328922220002002524403676638534437476716131590354742529734394251459985146283306721730633261985100758164682424758952906705923279645089814424212909777736078957335150995317946913205815872200481045766115864208627352895496685868011710510993519050355780839627575800412487817241321858777913536564026680918670840091427852873391274983180066608054182239208165682206403347084962658773552081737039313488900900674576443036844671155018959196120780157401310001404351297508008496710867382244795996416778298609338575787386494058802325917260426135357116449684123684104681971328576367120901901302095515736856540420547496265522872097747976904164227299602672982866279314409967671661862150785565433749809136483664557205310319408497886973945420712913047366147611150136151479792591620195077075499093109230630628987706625362767611172964594732285880684009641593659167071709641553481698423594228117723656930409128281700041998575071239005055965138332131064582195259684410618588621968240639130647268329202947850462928951808834605471430214615997345746506261342122648189929001801969753172133039528442929180425139036614756721726245434785573448788489969665088473\n"
     ]
    }
   ],
   "source": [
    "# Generate RSA keys using myKeyGeneration.\n",
    "\n",
    "N,public_key, private_key = myKeyGeneration(2048, 65537) \n",
    "\n",
    "# Here we have l=4096/2=2048 because N has lenght 2l bits and e=65537\n",
    "\n",
    "# Extract the components of the public key.\n",
    "e = public_key\n",
    "\n",
    "# Extract the components of the private key.\n",
    "d = private_key\n",
    "\n",
    "# Print the public key components.\n",
    "print(\"\\nMy Public key is (N, e):\")\n",
    "print('-'*106)\n",
    "\n",
    "print(\"\\n\\nN =\", N)\n",
    "print('-'*106)\n",
    "\n",
    "print(\"\\n\\ne =\", e)\n",
    "print('-'*106)\n",
    "\n",
    "# Print the private key components.\n",
    "print(\"\\n\\n\\n\\nPrivate key d:\")\n",
    "print('-'*106)\n",
    "\n",
    "print(\"\\n\\nd =\", d)\n"
   ]
  },
  {
   "cell_type": "markdown",
   "id": "floating-throat",
   "metadata": {},
   "source": [
    "  "
   ]
  },
  {
   "cell_type": "markdown",
   "id": "excessive-flesh",
   "metadata": {},
   "source": [
    "    "
   ]
  },
  {
   "cell_type": "markdown",
   "id": "continental-anchor",
   "metadata": {},
   "source": [
    "  "
   ]
  },
  {
   "cell_type": "markdown",
   "id": "cardiac-parallel",
   "metadata": {},
   "source": [
    "### $\\underline{Question ~2.4}$   Let us use the function myRSAEncrypt to encrypt the messages $ m_1 = 123456789~ mod ~N$ , $m_2 =111111111~ mod~ N $ and $ m 3 = m_1 ∗ m_2~mod~ N $ under the public key $(N, e)$ of question 2.3 and denote the ciphertexts by $C_1 , C_2~and~C_3$ respectively. What can you say about $ C_1∗C_2 $ and  $ C_3$ ?"
   ]
  },
  {
   "cell_type": "markdown",
   "id": "confirmed-moral",
   "metadata": {},
   "source": [
    "   "
   ]
  },
  {
   "cell_type": "markdown",
   "id": "anticipated-teddy",
   "metadata": {},
   "source": [
    "  "
   ]
  },
  {
   "cell_type": "code",
   "execution_count": 12,
   "id": "lightweight-repeat",
   "metadata": {},
   "outputs": [
    {
     "name": "stdout",
     "output_type": "stream",
     "text": [
      "The Ciphertext are \n",
      "\n",
      "\n",
      "\n",
      "----------------------------------------------------------------------------------------------------------\n",
      "\n",
      "\n",
      "\n",
      "C1 encrypted is:\n",
      "\n",
      "\n",
      " 696332047439776681832489965495654507920799958097652995284867921558714815264219701809365825700591265236845047489692384811162522197957514879794390190203553194833553206706498204936754788883834758847823439835495332064115398939310765514660207314834086319849347549514996367069792057472914126103479597592289303745264633460069286153819946127768008475608395042711652535820385650513873379615356445649280508330453983906021172300759330403389953035526828992802471600815954300963646329521703965681035815554786772697806832088496119005166225807027096746536484263750171647861703404252682264345639352503621405228833628342513824362399095980048846137955144418256320985001091337656950307531022569422596530662761756311729124957417836103460989897747678637437081186502364335873988902643298074833399388302845408457766197279573565417903468440825135943627086852314425136213113843470687795996627897192400574539374308920111472216581288789771160567485354646179297188940381457044905935391460048647513427906181489203739913884575829068891434508900020992430436797767865894159275691976645381274720448661846891584707731018317377110476141571304311522693812759326149747674299637561397435253313258450414722399609715676086120719023355570740941067533973096250511187391471187\n",
      "\n",
      "\n",
      "\n",
      " ----------------------------------------------------------------------------------------------------------\n",
      "\n",
      "\n",
      "\n",
      "C2 encrypted is:\n",
      "\n",
      "\n",
      " 147290085817156735541303782631096995561101327238815707135121553743843293523543453731359343118294267853410204951023632295170961020905711391769449678641667302192498146710934701174265687041090938146022301696970022133276636211444706816719665546555327747603159428819527217435493625760508262568851423627372136001565692225565664913529369738868312255066703630024854958611402850528206743230570155044972276290465247962789583390269866471168804015129701898557503564588258181453714378006090718026050752259746459507136834779180692958242118857482645001095143552152704968574194370232216959805802678960461677499969218941004424194643228953673758530804115945659223476712003149347181360659514112859901692907826724875130729579879419677215424539981273313583579059762341909308024925664612433478008631395817033803527812816518434255501854708701983538896747890413863444674534619185296252370372251445110459171637479154327353614013134206153232843688045261698699301001870773980863426814217358428920170673737336199895844481939660073973675437328590366920203947866952829987223062531442124935040349966450011163068184883578641812017065610536556030646008076264910621789121311610644306466687155085009937484982839368199044551163277791200488740455957928803263657663534042\n",
      "\n",
      "\n",
      "\n",
      " ----------------------------------------------------------------------------------------------------------\n",
      "\n",
      "\n",
      "\n",
      "C3 encrypted is:\n",
      "\n",
      "\n",
      " 114295854159523261624874876471143370063090794147853720747121413515399828318786743490198564841812266624904994558881456891909200841834030260965159010271469738357511375364228285339638865936234203218755687634401960620763430623640952260645397890228699375115148256719721407586571259140896992790610125284439868043815160222268969449919740700405184578404855335749168203052624511725379306922796308006929904907087981894638592880817419842759563873426179859781839989565940110829492369915984309130381476092395192273198349519794518650163857750101006268951777120272833336900071786674351265436439324177197957950739192693780476281719637569617132955995612977551768918001374525808265815368100522398720109408455455979127092909356502797203719482048379354855442488741413468078834584768338839677479608380361865744402481880218618632258987963297107893443882000850332159927266466545898634833988830029709441755675007220522874417221738796834045739338513801003594383371062159993207186862616623430964145508116181525854545687651081334947112117084379330585864848685650615842816407990819933482656159309961695776179574558539537803963507133799427767546434620271157665253967458624541095983970476360856539011050795769527088889220400596162012971072413170372050086793703185\n"
     ]
    }
   ],
   "source": [
    "# Plaintext messages\n",
    "m1 = 123456789%N\n",
    "m2 = 111111111%N\n",
    "m3 = (m1 * m2)%N\n",
    "\n",
    "# Encrypt the plaintext messages using RSA encryption\n",
    "C1 = myRSAEncrypt(N, e, m1)\n",
    "C2 = myRSAEncrypt(N, e, m2)\n",
    "C3 = myRSAEncrypt(N, e, m3)\n",
    "\n",
    "# Print the encrypted ciphertexts\n",
    "print(\"The Ciphertext are \\n\\n\\n\")\n",
    "print('-'*106)\n",
    "\n",
    "print(\"\\n\\n\\nC1 encrypted is:\\n\\n\\n\", C1)\n",
    "print('\\n\\n\\n','-'*106)\n",
    "\n",
    "print(\"\\n\\n\\nC2 encrypted is:\\n\\n\\n\", C2)\n",
    "print('\\n\\n\\n','-'*106)\n",
    "\n",
    "print(\"\\n\\n\\nC3 encrypted is:\\n\\n\\n\", C3)"
   ]
  },
  {
   "cell_type": "markdown",
   "id": "angry-embassy",
   "metadata": {},
   "source": [
    " "
   ]
  },
  {
   "cell_type": "markdown",
   "id": "czech-sterling",
   "metadata": {},
   "source": [
    "### Let's check  the correctness of our encryptions by decrypted those ciphertexts and compare to the messages."
   ]
  },
  {
   "cell_type": "code",
   "execution_count": 13,
   "id": "assisted-depth",
   "metadata": {},
   "outputs": [
    {
     "name": "stdout",
     "output_type": "stream",
     "text": [
      "\n",
      "The decrypted message of our Ciphertext C1 is 123456789 with is m1 :True\n",
      "\n",
      "\n",
      "\n",
      " ---------------------------------------------------------------------------------------------------------- \n",
      "\n",
      "\n",
      "\n",
      "The decrypted message of our Ciphertext C2 is 111111111 with is m2 :True\n",
      "\n",
      "\n",
      "\n",
      " ---------------------------------------------------------------------------------------------------------- \n",
      "\n",
      "\n",
      "\n",
      "The decrypted message of our Ciphertext C3 is 13717420986282579 with is m3 :True\n"
     ]
    }
   ],
   "source": [
    "test1=myRSADecrypt(N, d, C1.mod(N))==m1\n",
    "\n",
    "test2=myRSADecrypt(N, d, C2.mod(N))==m2\n",
    "\n",
    "\n",
    "test3=myRSADecrypt(N, d, C3.mod(N))==m3\n",
    "\n",
    "\n",
    "\n",
    "\n",
    "print (f\"\\nThe decrypted message of our Ciphertext C1 is {myRSADecrypt(N, d, C1.mod(N))} with is m1 :{test1}\")\n",
    "\n",
    "print('\\n\\n\\n','-'*106,\"\\n\\n\\n\")\n",
    "\n",
    "\n",
    "print (f\"The decrypted message of our Ciphertext C2 is {myRSADecrypt(N, d, C2.mod(N))} with is m2 :{test2}\")\n",
    "\n",
    "print('\\n\\n\\n','-'*106,\"\\n\\n\\n\")\n",
    "\n",
    "\n",
    "print (f\"The decrypted message of our Ciphertext C3 is {myRSADecrypt(N, d, C3.mod(N))} with is m3 :{test3}\")"
   ]
  },
  {
   "cell_type": "markdown",
   "id": "handmade-surveillance",
   "metadata": {},
   "source": [
    "  "
   ]
  },
  {
   "cell_type": "markdown",
   "id": "corporate-explorer",
   "metadata": {},
   "source": [
    "## Let's compare $C_1*C_2$ and $C_3$"
   ]
  },
  {
   "cell_type": "code",
   "execution_count": 14,
   "id": "premier-prompt",
   "metadata": {},
   "outputs": [
    {
     "data": {
      "text/plain": [
       "True"
      ]
     },
     "execution_count": 14,
     "metadata": {},
     "output_type": "execute_result"
    }
   ],
   "source": [
    "C1*C2==C3"
   ]
  },
  {
   "cell_type": "markdown",
   "id": "suffering-consciousness",
   "metadata": {},
   "source": [
    "   "
   ]
  },
  {
   "cell_type": "markdown",
   "id": "early-quantum",
   "metadata": {},
   "source": [
    " ###  Since the encryption of the product is the product of the encryption we can conclude that here the  encryption operation  is an homomorphism IN RSA."
   ]
  },
  {
   "cell_type": "markdown",
   "id": "affected-armstrong",
   "metadata": {},
   "source": [
    " "
   ]
  },
  {
   "cell_type": "markdown",
   "id": "unavailable-money",
   "metadata": {},
   "source": [
    "### Therefore we can say that the encryption operation within the RSA  cryptosystem is consistent."
   ]
  },
  {
   "cell_type": "markdown",
   "id": "fatty-lunch",
   "metadata": {},
   "source": [
    "### $\\underline{Question ~2.5}$  Let us decrypt the ciphertexts $C4 = 2023$, $C5 = 2024$  and $  C6 = 2025$."
   ]
  },
  {
   "cell_type": "markdown",
   "id": "satisfied-steel",
   "metadata": {},
   "source": [
    " "
   ]
  },
  {
   "cell_type": "code",
   "execution_count": 15,
   "id": "daily-attention",
   "metadata": {},
   "outputs": [
    {
     "name": "stdout",
     "output_type": "stream",
     "text": [
      "Decrypted message  m4 is:\n",
      "\n",
      "\n",
      " 159080747506162133774219497348539010505345203645289254952232705001432113328804911813205492283739180322108718832959928052161277691995697095585432131610209802151663010941913886221214383565631857443320666883886637341206270309051346555350807611605982508274047662916914564404128416035294822297760212866194906118933802026353573915088409290620380160523068078448125463871878075926905852085693592465714246809828327899083596422075757237102496271699415327658519253572347568835756275825055474697764851313282410577159363829718519042034374625223349773577337996906116918783058222289099957537060836488978745532208191550523487686209159065049443170868086668440156649007731156305157240945633413577264339280334055563906077614322404855882386602892679484327322070381112100345635647901433196432385992477393882040994176403459402601409319581399323169829430363964353320667905167173710876682821727966729798765516428830089518383444433568737912150003581240115485740023153304956718605466262109047918030762653547630328078766043530186770873902686362651586517595404592953401425897592890117464042037737311703907505833340905028863930145568661715538718323096602059148531367788627023538131056997276788960242911959088279802099864455905979572528651755322730090093165171098\n",
      "\n",
      "\n",
      "\n",
      " ----------------------------------------------------------------------------------------------------------\n",
      "\n",
      "Decrypted message m5 is:\n",
      "\n",
      "\n",
      " 688144632223025746269980604386001039257314602139295907484084061603139913275430620373004760977480520338298551669885955582795386447800858648782917006279772015866393059087703780312678677880109280716575519904396258306020675249664104551499971419283409025401668680896336899744489542599055289660069830745301760401103497646528430854470492555994707287480681336267415857607717905870157607170802941286565511805537975971932020328534597790486291859076731261417037038694158507630138664280858705678022905272479704864595907482052137261998625824921447571323332799230444306252358019844845380315636130006360894306834284594189707265700105072213631546024738206549988843381818055191796224847619320080497440176486587335819292265741158508519930403613727378869345139942764919468281697493316874965619848456539538544370894408613251364446639744596545810575148317485161813028168674763378931923305910599869498171403888928554692649246903802192656253529082537726269774085842336504612724519467695888403476999876817271668433430804694311355947703332112172736390924274545009444575252964592974388166481038049403389635122600703722363539910223650804977636503968193432568339922318722764145512557981506777792984618229923462447983475831696173562441924134324672380073204355406\n",
      "\n",
      "\n",
      "\n",
      " ----------------------------------------------------------------------------------------------------------\n",
      "\n",
      "\n",
      "\n",
      "Decrypted message m6 is:\n",
      "\n",
      " 471047855750560200567225761713891521598766165405798828579390160864524319491330862471358889082640377384431198583234959675962680240306394178181935897725591895524923187299204127032055525997853199248275173998568048615918787446371430543051372631342363323541134364002667517635921000947748615547372290604107300430622653899726659275305342106666077549405752747873500188858668092579582816850689581991080481038103058970313756493816975860639937819037556423976343802651498171314038306849623040751773325718961550304614775418112923267933880935257244313721745037018327011389239300649697333825365889509030398787150037395192831530044108027364645485575178179530945204098291275826332308858013661346169138283478108830658624305154395983308521483485649243020432652401499656989168885977230657024515779948528171869521810511108586240895260815659131948378095849966714176696369332093065687332973775780915506755179874269724796015932923044387573280629469252946532280108803513121322511910194026444714745632137631371008701588580124449793097502396983597073874251370889448404374345017022017547478676111804456588417499847593923522851229964547706112180359301914092504670762813703561554754953852877771587182851244209348891463186918564011073727361295082884886469625416365\n"
     ]
    }
   ],
   "source": [
    "C4 = 2023\n",
    "C5 = 2024\n",
    "C6 = 2025\n",
    "\n",
    "# Decrypt the ciphertexts using RSA decryption\n",
    "m4 = myRSADecrypt(N, d, C4.mod(N))\n",
    "m5 = myRSADecrypt(N, d, C5.mod(N))\n",
    "m6 = myRSADecrypt(N, d, C6.mod(N))\n",
    "\n",
    "# Print the decrypted plaintext messages\n",
    "print(\"Decrypted message  m4 is:\\n\\n\\n\", m4)\n",
    "print('\\n\\n\\n','-'*106)\n",
    "print(\"\\nDecrypted message m5 is:\\n\\n\\n\", m5)\n",
    "print('\\n\\n\\n','-'*106)\n",
    "print(\"\\n\\n\\nDecrypted message m6 is:\\n\\n\", m6)"
   ]
  },
  {
   "cell_type": "markdown",
   "id": "affected-constitutional",
   "metadata": {},
   "source": [
    " "
   ]
  },
  {
   "cell_type": "markdown",
   "id": "artificial-small",
   "metadata": {},
   "source": [
    "### Let's check  the correctness of our Decrptions by Encrypting those Messages and compare to the Ciphertexts."
   ]
  },
  {
   "cell_type": "code",
   "execution_count": 16,
   "id": "reliable-strain",
   "metadata": {},
   "outputs": [
    {
     "name": "stdout",
     "output_type": "stream",
     "text": [
      "\n",
      "The encrypted ciphertext of our message m4 is 2023 with is C4 :True\n",
      "\n",
      "\n",
      "\n",
      " ---------------------------------------------------------------------------------------------------------- \n",
      "\n",
      "\n",
      "\n",
      "The decrypted ciphertext of our message m5 is 2024 with is C5 :True\n",
      "\n",
      "\n",
      "\n",
      " ---------------------------------------------------------------------------------------------------------- \n",
      "\n",
      "\n",
      "\n",
      "The decrypted ciphertext of our message m6 is 2025 with is C6 :True\n"
     ]
    }
   ],
   "source": [
    "test4=myRSADecrypt(N, e, m4)==C4\n",
    "\n",
    "test5=myRSADecrypt(N, e, m5)==C5\n",
    "\n",
    "\n",
    "test6=myRSADecrypt(N, e, m6)==C6\n",
    "\n",
    "\n",
    "\n",
    "\n",
    "print (f\"\\nThe encrypted ciphertext of our message m4 is {myRSAEncrypt(N, e,m4)} with is C4 :{test4}\")\n",
    "\n",
    "print('\\n\\n\\n','-'*106,\"\\n\\n\\n\")\n",
    "\n",
    "\n",
    "print (f\"The decrypted ciphertext of our message m5 is {myRSAEncrypt(N, e, m5)} with is C5 :{test5}\")\n",
    "\n",
    "print('\\n\\n\\n','-'*106,\"\\n\\n\\n\")\n",
    "\n",
    "\n",
    "print (f\"The decrypted ciphertext of our message m6 is {myRSAEncrypt(N, e, m6)} with is C6 :{test6}\")"
   ]
  },
  {
   "cell_type": "markdown",
   "id": "religious-completion",
   "metadata": {},
   "source": [
    "  "
   ]
  }
 ],
 "metadata": {
  "kernelspec": {
   "display_name": "SageMath 9.2",
   "language": "sage",
   "name": "sagemath"
  },
  "language_info": {
   "codemirror_mode": {
    "name": "ipython",
    "version": 3
   },
   "file_extension": ".py",
   "mimetype": "text/x-python",
   "name": "python",
   "nbconvert_exporter": "python",
   "pygments_lexer": "ipython3",
   "version": "3.9.2"
  }
 },
 "nbformat": 4,
 "nbformat_minor": 5
}
